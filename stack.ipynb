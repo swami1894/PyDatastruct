{
  "nbformat": 4,
  "nbformat_minor": 0,
  "metadata": {
    "colab": {
      "name": "stack.ipynb",
      "provenance": [],
      "collapsed_sections": [],
      "authorship_tag": "ABX9TyOe4f/MahMVYzBTJzd4OLTt",
      "include_colab_link": true
    },
    "kernelspec": {
      "name": "python3",
      "display_name": "Python 3"
    }
  },
  "cells": [
    {
      "cell_type": "markdown",
      "metadata": {
        "id": "view-in-github",
        "colab_type": "text"
      },
      "source": [
        "<a href=\"https://colab.research.google.com/github/swami1894/PyDatastruct/blob/main/stack.ipynb\" target=\"_parent\"><img src=\"https://colab.research.google.com/assets/colab-badge.svg\" alt=\"Open In Colab\"/></a>"
      ]
    },
    {
      "cell_type": "code",
      "metadata": {
        "id": "CxVe5kaq6Qeb"
      },
      "source": [
        "MAXSIZE = 23767"
      ],
      "execution_count": 13,
      "outputs": []
    },
    {
      "cell_type": "code",
      "metadata": {
        "id": "ru1fELds6lkr"
      },
      "source": [
        "class Stack():\r\n",
        "\r\n",
        "  def __init__(self, size=MAXSIZE):\r\n",
        "    self.stack = [None]*size\r\n",
        "    self.size = size\r\n",
        "    self.top = 0\r\n",
        "    self.isFull = False\r\n",
        "    self.isEmpty = True\r\n",
        "\r\n",
        "  def push_element(self, element):\r\n",
        "    if (not self.isFull):\r\n",
        "      self.stack[self.top] = element\r\n",
        "      self.top = self.top + 1\r\n",
        "      self.isEmpty = False\r\n",
        "      if self.top >= self.size:\r\n",
        "        self.isFull = True\r\n",
        "    else:\r\n",
        "      print(f'IndexOutOfBoundError: Stack size limit {self.size} reached')\r\n",
        "    return self.stack, self.top, self.isFull, self.isEmpty\r\n",
        "\r\n",
        "  def pop_element(self):\r\n",
        "    if (not self.isEmpty):\r\n",
        "      self.stack[self.top - 1] = None\r\n",
        "      self.top = self.top - 1\r\n",
        "      if self.top < self.size:\r\n",
        "        self.isFull = False\r\n",
        "    else:\r\n",
        "      print(f'''IndexOutOfBoundError:Empty stack error number of \r\n",
        "                                        elements in stack is {self.top}''')\r\n",
        "    return self.stack, self.top, self.isEmpty, self.isFull\r\n",
        "\r\n",
        "  def display_stack(self):\r\n",
        "    if self.top > 0:\r\n",
        "      print(self.stack[:self.top])\r\n",
        "    else:\r\n",
        "      print(f'''IndexOutOfBoundError:Empty stack error number of \r\n",
        "                                        elements in stack is {self.top}''')  \r\n",
        "    return None\r\n",
        "\r\n",
        "  def top_element(self):\r\n",
        "     if self.top > 0:\r\n",
        "      return self.stack[self.top - 1]\r\n",
        "     else:\r\n",
        "      print(f'''IndexOutOfBoundError:Empty stack error number of \r\n",
        "                                        elements in stack is {self.top}''')\r\n",
        "      return None\r\n",
        "   \r\n",
        "\r\n",
        "\r\n",
        "  def stack_status(self):\r\n",
        "     print(f'''Stack size = {self.size}\\nTop index = {self.top}\\nTop element = {self.stack[self.top]}''')\r\n",
        "     return None"
      ],
      "execution_count": 14,
      "outputs": []
    },
    {
      "cell_type": "code",
      "metadata": {
        "id": "7VaAITgVF32m"
      },
      "source": [
        "myStack = Stack(5)"
      ],
      "execution_count": 15,
      "outputs": []
    },
    {
      "cell_type": "code",
      "metadata": {
        "colab": {
          "base_uri": "https://localhost:8080/"
        },
        "id": "0DI8fC6pGJSA",
        "outputId": "16e91a77-6145-4f3d-b741-5e967b060555"
      },
      "source": [
        "myStack.stack_status()"
      ],
      "execution_count": 16,
      "outputs": [
        {
          "output_type": "stream",
          "text": [
            "Stack size = 5\n",
            "Top index = 0\n",
            "Top element = None\n"
          ],
          "name": "stdout"
        }
      ]
    },
    {
      "cell_type": "code",
      "metadata": {
        "colab": {
          "base_uri": "https://localhost:8080/"
        },
        "id": "Cn0HxeTsGM0o",
        "outputId": "1b28beaa-df30-4bcc-bb32-e5525c7d11e2"
      },
      "source": [
        "myStack.push_element(10)"
      ],
      "execution_count": 17,
      "outputs": [
        {
          "output_type": "execute_result",
          "data": {
            "text/plain": [
              "([10, None, None, None, None], 1, False, False)"
            ]
          },
          "metadata": {
            "tags": []
          },
          "execution_count": 17
        }
      ]
    },
    {
      "cell_type": "code",
      "metadata": {
        "colab": {
          "base_uri": "https://localhost:8080/"
        },
        "id": "N8lT8ic-GsSP",
        "outputId": "8730e5c5-6b34-49c6-be1d-c7846f533779"
      },
      "source": [
        "myStack.push_element('text')"
      ],
      "execution_count": 18,
      "outputs": [
        {
          "output_type": "execute_result",
          "data": {
            "text/plain": [
              "([10, 'text', None, None, None], 2, False, False)"
            ]
          },
          "metadata": {
            "tags": []
          },
          "execution_count": 18
        }
      ]
    },
    {
      "cell_type": "code",
      "metadata": {
        "colab": {
          "base_uri": "https://localhost:8080/"
        },
        "id": "pEJnArtuG1I8",
        "outputId": "431d4ea1-4950-4fb5-b33c-8a41def8c255"
      },
      "source": [
        "myStack.push_element('True')"
      ],
      "execution_count": 19,
      "outputs": [
        {
          "output_type": "execute_result",
          "data": {
            "text/plain": [
              "([10, 'text', 'True', None, None], 3, False, False)"
            ]
          },
          "metadata": {
            "tags": []
          },
          "execution_count": 19
        }
      ]
    },
    {
      "cell_type": "code",
      "metadata": {
        "colab": {
          "base_uri": "https://localhost:8080/"
        },
        "id": "OyS9z_zdG3uf",
        "outputId": "0b4b78d7-cd97-4cdd-a279-e3c431d5b003"
      },
      "source": [
        "myStack.push_element((1, 5))"
      ],
      "execution_count": 20,
      "outputs": [
        {
          "output_type": "execute_result",
          "data": {
            "text/plain": [
              "([10, 'text', 'True', (1, 5), None], 4, False, False)"
            ]
          },
          "metadata": {
            "tags": []
          },
          "execution_count": 20
        }
      ]
    },
    {
      "cell_type": "code",
      "metadata": {
        "colab": {
          "base_uri": "https://localhost:8080/"
        },
        "id": "KvDIYgjfG_AH",
        "outputId": "623f5287-d2dd-47a7-ab67-b3cd3ab2f878"
      },
      "source": [
        "myStack.push_element({'data':'mine'})"
      ],
      "execution_count": 21,
      "outputs": [
        {
          "output_type": "execute_result",
          "data": {
            "text/plain": [
              "([10, 'text', 'True', (1, 5), {'data': 'mine'}], 5, True, False)"
            ]
          },
          "metadata": {
            "tags": []
          },
          "execution_count": 21
        }
      ]
    },
    {
      "cell_type": "code",
      "metadata": {
        "colab": {
          "base_uri": "https://localhost:8080/"
        },
        "id": "flXRxnxmHEA7",
        "outputId": "097a52c4-1eb7-41ea-b816-e7fa5a876c8a"
      },
      "source": [
        "myStack.push_element(1)"
      ],
      "execution_count": 22,
      "outputs": [
        {
          "output_type": "stream",
          "text": [
            "IndexOutOfBoundError: Stack size limit 5 reached\n"
          ],
          "name": "stdout"
        },
        {
          "output_type": "execute_result",
          "data": {
            "text/plain": [
              "([10, 'text', 'True', (1, 5), {'data': 'mine'}], 5, True, False)"
            ]
          },
          "metadata": {
            "tags": []
          },
          "execution_count": 22
        }
      ]
    },
    {
      "cell_type": "code",
      "metadata": {
        "colab": {
          "base_uri": "https://localhost:8080/"
        },
        "id": "C4ekINOLHHsy",
        "outputId": "40160b71-3a94-4e2f-9240-395e14808a82"
      },
      "source": [
        "myStack.pop_element()"
      ],
      "execution_count": 23,
      "outputs": [
        {
          "output_type": "execute_result",
          "data": {
            "text/plain": [
              "([10, 'text', 'True', (1, 5), None], 4, False, False)"
            ]
          },
          "metadata": {
            "tags": []
          },
          "execution_count": 23
        }
      ]
    },
    {
      "cell_type": "code",
      "metadata": {
        "colab": {
          "base_uri": "https://localhost:8080/"
        },
        "id": "pPRlx5CpHME_",
        "outputId": "7a2bedc3-a222-4a77-adfb-38bd0602fade"
      },
      "source": [
        "myStack.push_element(10000)"
      ],
      "execution_count": 24,
      "outputs": [
        {
          "output_type": "execute_result",
          "data": {
            "text/plain": [
              "([10, 'text', 'True', (1, 5), 10000], 5, True, False)"
            ]
          },
          "metadata": {
            "tags": []
          },
          "execution_count": 24
        }
      ]
    },
    {
      "cell_type": "code",
      "metadata": {
        "id": "iNDxx9KaHmA2"
      },
      "source": [
        ""
      ],
      "execution_count": 24,
      "outputs": []
    }
  ]
}