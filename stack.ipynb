{
  "nbformat": 4,
  "nbformat_minor": 0,
  "metadata": {
    "colab": {
      "name": "stack.ipynb",
      "provenance": [],
      "collapsed_sections": [],
      "authorship_tag": "ABX9TyOP/BmAG6SJElkDfiYrm385",
      "include_colab_link": true
    },
    "kernelspec": {
      "name": "python3",
      "display_name": "Python 3"
    }
  },
  "cells": [
    {
      "cell_type": "markdown",
      "metadata": {
        "id": "view-in-github",
        "colab_type": "text"
      },
      "source": [
        "<a href=\"https://colab.research.google.com/github/swami1894/PyDatastruct/blob/main/stack.ipynb\" target=\"_parent\"><img src=\"https://colab.research.google.com/assets/colab-badge.svg\" alt=\"Open In Colab\"/></a>"
      ]
    },
    {
      "cell_type": "code",
      "metadata": {
        "id": "CxVe5kaq6Qeb"
      },
      "source": [
        "MAXSIZE = 23767"
      ],
      "execution_count": 1,
      "outputs": []
    },
    {
      "cell_type": "code",
      "metadata": {
        "id": "ru1fELds6lkr"
      },
      "source": [
        "class Stack():\r\n",
        "\r\n",
        "  def __init__(self, size=MAXSIZE):\r\n",
        "    self.stack = [None]*size\r\n",
        "    self.size = size\r\n",
        "    self.top = 0\r\n",
        "    self.isFull = False\r\n",
        "    self.isEmpty = True\r\n",
        "\r\n",
        "  def push_element(self, element):\r\n",
        "    if (not self.isFull):\r\n",
        "      self.stack[self.top] = element\r\n",
        "      self.top = self.top + 1\r\n",
        "      self.isEmpty = False\r\n",
        "      if self.top >= self.size:\r\n",
        "        self.isFull = True\r\n",
        "    else:\r\n",
        "      print(f'IndexOutOfBoundError: Stack size limit {self.size} reached')\r\n",
        "    return self.stack, self.top, self.isFull, self.isEmpty\r\n",
        "\r\n",
        "  def pop_element(self):\r\n",
        "    if (not self.isEmpty):\r\n",
        "      self.stack[self.top - 1] = None\r\n",
        "      self.top = self.top - 1\r\n",
        "      if self.top < self.size:\r\n",
        "        self.isFull = False\r\n",
        "    else:\r\n",
        "      print(f'''IndexOutOfBoundError:Empty stack error number of \r\n",
        "                                        elements in stack is {self.top}''')\r\n",
        "    return self.stack, self.top, self.isEmpty, self.isFull\r\n",
        "\r\n",
        "  def display_stack(self):\r\n",
        "    if self.top > 0:\r\n",
        "      print(self.stack[:self.top])\r\n",
        "    else:\r\n",
        "      print(f'''IndexOutOfBoundError:Empty stack error number of \r\n",
        "                                        elements in stack is {self.top}''')  \r\n",
        "    return None\r\n",
        "\r\n",
        "  def top_element(self):\r\n",
        "     if self.top > 0:\r\n",
        "      return self.stack[self.top - 1]\r\n",
        "     else:\r\n",
        "      print(f'''IndexOutOfBoundError:Empty stack error number of \r\n",
        "                                        elements in stack is {self.top}''')\r\n",
        "      return None\r\n",
        "   \r\n",
        "\r\n",
        "\r\n",
        "  def stack_status(self):\r\n",
        "     print(f'''Stack size = {self.size}\\nTop index = {self.top}\\nTop element = {self.stack[self.top]}''')\r\n",
        "     return None"
      ],
      "execution_count": 2,
      "outputs": []
    },
    {
      "cell_type": "code",
      "metadata": {
        "id": "7VaAITgVF32m"
      },
      "source": [
        "myStack = Stack(5)"
      ],
      "execution_count": 3,
      "outputs": []
    },
    {
      "cell_type": "code",
      "metadata": {
        "colab": {
          "base_uri": "https://localhost:8080/"
        },
        "id": "0DI8fC6pGJSA",
        "outputId": "8b983804-9608-4a73-995d-1d456ed3b765"
      },
      "source": [
        "myStack.stack_status()"
      ],
      "execution_count": 4,
      "outputs": [
        {
          "output_type": "stream",
          "text": [
            "Stack size = 5\n",
            "Top index = 0\n",
            "Top element = None\n"
          ],
          "name": "stdout"
        }
      ]
    },
    {
      "cell_type": "code",
      "metadata": {
        "colab": {
          "base_uri": "https://localhost:8080/"
        },
        "id": "Cn0HxeTsGM0o",
        "outputId": "91c1356b-3092-49c4-e2b2-bda5d0fff4dc"
      },
      "source": [
        "myStack.push_element(10)"
      ],
      "execution_count": 5,
      "outputs": [
        {
          "output_type": "execute_result",
          "data": {
            "text/plain": [
              "([10, None, None, None, None], 1, False, False)"
            ]
          },
          "metadata": {
            "tags": []
          },
          "execution_count": 5
        }
      ]
    },
    {
      "cell_type": "code",
      "metadata": {
        "colab": {
          "base_uri": "https://localhost:8080/"
        },
        "id": "N8lT8ic-GsSP",
        "outputId": "cd3d91ee-da19-4bff-bdde-d7c6bada3430"
      },
      "source": [
        "myStack.push_element('text')"
      ],
      "execution_count": 6,
      "outputs": [
        {
          "output_type": "execute_result",
          "data": {
            "text/plain": [
              "([10, 'text', None, None, None], 2, False, False)"
            ]
          },
          "metadata": {
            "tags": []
          },
          "execution_count": 6
        }
      ]
    },
    {
      "cell_type": "code",
      "metadata": {
        "colab": {
          "base_uri": "https://localhost:8080/"
        },
        "id": "pEJnArtuG1I8",
        "outputId": "7ab59dc3-d59a-4096-e64d-b79a5e33bed9"
      },
      "source": [
        "myStack.push_element('True')"
      ],
      "execution_count": 7,
      "outputs": [
        {
          "output_type": "execute_result",
          "data": {
            "text/plain": [
              "([10, 'text', 'True', None, None], 3, False, False)"
            ]
          },
          "metadata": {
            "tags": []
          },
          "execution_count": 7
        }
      ]
    },
    {
      "cell_type": "code",
      "metadata": {
        "colab": {
          "base_uri": "https://localhost:8080/"
        },
        "id": "OyS9z_zdG3uf",
        "outputId": "c3afb4fb-5885-4309-e626-f498b7a08bf8"
      },
      "source": [
        "myStack.push_element((1, 5))"
      ],
      "execution_count": 8,
      "outputs": [
        {
          "output_type": "execute_result",
          "data": {
            "text/plain": [
              "([10, 'text', 'True', (1, 5), None], 4, False, False)"
            ]
          },
          "metadata": {
            "tags": []
          },
          "execution_count": 8
        }
      ]
    },
    {
      "cell_type": "code",
      "metadata": {
        "colab": {
          "base_uri": "https://localhost:8080/"
        },
        "id": "KvDIYgjfG_AH",
        "outputId": "f706cec5-5cf9-414c-d991-7061dc15464d"
      },
      "source": [
        "myStack.push_element({'data':'mine'})"
      ],
      "execution_count": 9,
      "outputs": [
        {
          "output_type": "execute_result",
          "data": {
            "text/plain": [
              "([10, 'text', 'True', (1, 5), {'data': 'mine'}], 5, True, False)"
            ]
          },
          "metadata": {
            "tags": []
          },
          "execution_count": 9
        }
      ]
    },
    {
      "cell_type": "code",
      "metadata": {
        "colab": {
          "base_uri": "https://localhost:8080/"
        },
        "id": "flXRxnxmHEA7",
        "outputId": "f8f0b32f-fa75-4961-d564-29eb5833922a"
      },
      "source": [
        "myStack.push_element(1)"
      ],
      "execution_count": 10,
      "outputs": [
        {
          "output_type": "stream",
          "text": [
            "IndexOutOfBoundError: Stack size limit 5 reached\n"
          ],
          "name": "stdout"
        },
        {
          "output_type": "execute_result",
          "data": {
            "text/plain": [
              "([10, 'text', 'True', (1, 5), {'data': 'mine'}], 5, True, False)"
            ]
          },
          "metadata": {
            "tags": []
          },
          "execution_count": 10
        }
      ]
    },
    {
      "cell_type": "code",
      "metadata": {
        "colab": {
          "base_uri": "https://localhost:8080/"
        },
        "id": "C4ekINOLHHsy",
        "outputId": "fb3d287a-ec11-4ed4-aa07-eb59505f816d"
      },
      "source": [
        "myStack.pop_element()"
      ],
      "execution_count": 11,
      "outputs": [
        {
          "output_type": "execute_result",
          "data": {
            "text/plain": [
              "([10, 'text', 'True', (1, 5), None], 4, False, False)"
            ]
          },
          "metadata": {
            "tags": []
          },
          "execution_count": 11
        }
      ]
    },
    {
      "cell_type": "code",
      "metadata": {
        "colab": {
          "base_uri": "https://localhost:8080/"
        },
        "id": "pPRlx5CpHME_",
        "outputId": "e8c90683-db82-4013-d357-c5006b9c399a"
      },
      "source": [
        "myStack.push_element(10000)"
      ],
      "execution_count": 12,
      "outputs": [
        {
          "output_type": "execute_result",
          "data": {
            "text/plain": [
              "([10, 'text', 'True', (1, 5), 10000], 5, True, False)"
            ]
          },
          "metadata": {
            "tags": []
          },
          "execution_count": 12
        }
      ]
    }
  ]
}