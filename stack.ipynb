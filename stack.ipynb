{
  "nbformat": 4,
  "nbformat_minor": 0,
  "metadata": {
    "colab": {
      "name": "stack.ipynb",
      "provenance": [],
      "authorship_tag": "ABX9TyM+Uo24PO6O6h6HfRGBE4YS",
      "include_colab_link": true
    },
    "kernelspec": {
      "name": "python3",
      "display_name": "Python 3"
    }
  },
  "cells": [
    {
      "cell_type": "markdown",
      "metadata": {
        "id": "view-in-github",
        "colab_type": "text"
      },
      "source": [
        "<a href=\"https://colab.research.google.com/github/swami1894/PyDatastruct/blob/main/stack.ipynb\" target=\"_parent\"><img src=\"https://colab.research.google.com/assets/colab-badge.svg\" alt=\"Open In Colab\"/></a>"
      ]
    },
    {
      "cell_type": "code",
      "metadata": {
        "id": "CxVe5kaq6Qeb"
      },
      "source": [
        "MAXSIZE = 23767"
      ],
      "execution_count": 1,
      "outputs": []
    },
    {
      "cell_type": "code",
      "metadata": {
        "id": "ru1fELds6lkr"
      },
      "source": [
        "class Stack():\r\n",
        "\r\n",
        "  def __init__(self, size=MAXSIZE):\r\n",
        "    self.stack = [None]*size\r\n",
        "    self.top = 0\r\n",
        "    self.true = True\r\n",
        "    self.false = False\r\n",
        "\r\n",
        "  def push_element(self, element):\r\n",
        "    if self.top != len(self.size - 1):\r\n",
        "      self.stack[self.top] = element\r\n",
        "      self.top = self.top + 1\r\n",
        "    else:\r\n",
        "      print(f'IndexBoundError: Stack size limit {self.size} reached')\r\n",
        "    return self.stack, self.top\r\n",
        "\r\n",
        "  def pop_element(self, element):\r\n",
        "    "
      ],
      "execution_count": null,
      "outputs": []
    }
  ]
}