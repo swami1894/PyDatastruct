{
  "nbformat": 4,
  "nbformat_minor": 0,
  "metadata": {
    "colab": {
      "name": "stack.ipynb",
      "provenance": [],
      "authorship_tag": "ABX9TyPgW/nNNpRrBXtdnOk/bTRf",
      "include_colab_link": true
    },
    "kernelspec": {
      "name": "python3",
      "display_name": "Python 3"
    }
  },
  "cells": [
    {
      "cell_type": "markdown",
      "metadata": {
        "id": "view-in-github",
        "colab_type": "text"
      },
      "source": [
        "<a href=\"https://colab.research.google.com/github/swami1894/PyDatastruct/blob/main/stack.ipynb\" target=\"_parent\"><img src=\"https://colab.research.google.com/assets/colab-badge.svg\" alt=\"Open In Colab\"/></a>"
      ]
    },
    {
      "cell_type": "code",
      "metadata": {
        "id": "CxVe5kaq6Qeb"
      },
      "source": [
        "MAXSIZE = 23767"
      ],
      "execution_count": 1,
      "outputs": []
    },
    {
      "cell_type": "code",
      "metadata": {
        "id": "ru1fELds6lkr"
      },
      "source": [
        "class Stack():\r\n",
        "\r\n",
        "  def __init__(self, size=MAXSIZE):\r\n",
        "    self.stack = [None]*size\r\n",
        "    self.size = size\r\n",
        "    self.top = 0\r\n",
        "\r\n",
        "  def push_element(self, element):\r\n",
        "    if self.top != len(self.size - 1):\r\n",
        "      if self.stack[self.top] == None\r\n",
        "        self.stack[self.top] = element\r\n",
        "        self.top = self.top + 1\r\n",
        "    else:\r\n",
        "      print(f'IndexOutOfBoundError: Stack size limit {self.size} reached')\r\n",
        "    return self.stack, self.top\r\n",
        "\r\n",
        "  def pop_element(self, element):\r\n",
        "    if self.top != 0:\r\n",
        "      self.stack[self.top] = None\r\n",
        "      self.top = self.top - 1\r\n",
        "    else:\r\n",
        "      print(f'''IndexOutOfBoundError:Empty stack error number of \r\n",
        "                                        elements in stack is {self.top}''')\r\n",
        "    return self.stack, self.top\r\n",
        "\r\n",
        "  def display_stack:\r\n",
        "    if self.top > 0:\r\n",
        "      print(self.stack[:self.top])\r\n",
        "    else:\r\n",
        "      print(f'''IndexOutOfBoundError:Empty stack error number of \r\n",
        "                                        elements in stack is {self.top}''')  \r\n",
        "    return None\r\n",
        "\r\n",
        "   def top_element(self):\r\n",
        "     if self.top > 0\r\n",
        "      return self.stack[self.top - 1]\r\n",
        "    else:\r\n",
        "      print(f'''IndexOutOfBoundError:Empty stack error number of \r\n",
        "                                        elements in stack is {self.top}''')\r\n",
        "      return None\r\n",
        "   \r\n",
        "   def stack_status(self):\r\n",
        "     print(f'''Stack size = {self.size}\\n\r\n",
        "               Top index = {self.top - 1}\\n\r\n",
        "               Top element = {self.stack[self.top]}\\n''')"
      ],
      "execution_count": null,
      "outputs": []
    }
  ]
}